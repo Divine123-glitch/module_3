{
 "cells": [
  {
   "cell_type": "markdown",
   "id": "3f6c3246",
   "metadata": {},
   "source": [
    "### Twitter username and post validation using custom validation"
   ]
  },
  {
   "cell_type": "code",
   "execution_count": 7,
   "id": "f12affea",
   "metadata": {},
   "outputs": [],
   "source": [
    "from datetime import datetime\n",
    "from decimal import Decimal\n",
    "from pydantic import BaseModel, Field, ValidationError, field_validator\n",
    "from typing import List\n",
    "\n",
    "class TwitterUsername(BaseModel):\n",
    "        \"\"\"\n",
    "        Username cannot be Admin or Twitter. It only allows (_), special characters not allowed.\n",
    "        Maximum length of username is 15 and minimum length is 4.      \n",
    "        Twitter character limit is 280 for free accounts and 25,000 for premium accounts.\n",
    "        \"\"\"\n",
    "        \n",
    "        username: str = Field(..., min_length=4, max_length=15, pattern=r\"^[A-Za-z0-9_]+$\")\n",
    "        # Checking username doesn't have Admin and twitter using decorator\n",
    "        @field_validator(\"username\")\n",
    "        def username_cannot_be(cls, v):\n",
    "                if v.lower() in {'admin', 'twitter'}:\n",
    "                        raise ValueError(\"Username cannot be Admin or Twitter\")\n",
    "                return v\n",
    "        \n",
    "        free_account_post_length: str = Field(..., min_length=1, max_length=280, pattern=r\"^[\\s\\S]+$\")\n",
    "        premium_account_post_length: str = Field(..., min_length=1, max_length=25000, pattern=r\"^[\\s\\S]+$\")\n",
    "        is_active: bool = Field(default=True)\n",
    "        created_at: datetime = Field(default_factory=datetime.now)"
   ]
  },
  {
   "cell_type": "code",
   "execution_count": 8,
   "id": "b6fee57d",
   "metadata": {},
   "outputs": [],
   "source": [
    "# Creating a demo\n",
    "\n",
    "def demo_str_field():\n",
    "    print(\"Twitter Field Validation\")\n",
    "    try:\n",
    "        TwitterUsername(\n",
    "            username = \"admin\",\n",
    "\n",
    "            free_account_post_length = \"\"\"\n",
    "            The schoolhouse stood in a rather lonely but pleasant situation, situated on a slight hill in a field of thistle and rye grass, surrounded by nature.\n",
    "            \"\"\", \n",
    "\n",
    "            premium_account_post_length = \"\"\"\n",
    "            The schoolhouse stood in a rather lonely but pleasant situation, situated on a slight hill in a field of thistle and rye grass, surrounded by nature.\n",
    "            The sun was shining, the birds were singing, and the gentle breeze rustled the leaves of the nearby trees. It was a perfect day for learning and exploration.\n",
    "            \"\"\",\n",
    "        )\n",
    "    except ValidationError as e:\n",
    "        print(e)"
   ]
  },
  {
   "cell_type": "code",
   "execution_count": 9,
   "id": "0e3ee4c1",
   "metadata": {},
   "outputs": [
    {
     "name": "stdout",
     "output_type": "stream",
     "text": [
      "Twitter Field Validation\n",
      "1 validation error for TwitterUsername\n",
      "username\n",
      "  Value error, Username cannot be Admin or Twitter [type=value_error, input_value='admin', input_type=str]\n",
      "    For further information visit https://errors.pydantic.dev/2.12/v/value_error\n"
     ]
    }
   ],
   "source": [
    "# Checking the validation\n",
    "demo_str_field()  # this returns error because the user name cannot be 'twitter' and the free_account cannot exceed 280 word limit"
   ]
  },
  {
   "cell_type": "code",
   "execution_count": 10,
   "id": "9bedfb23",
   "metadata": {},
   "outputs": [],
   "source": [
    "# Creating a demo \n",
    "def demo_str_field():\n",
    "    print(\"Twitter Field Validation\")\n",
    "    try:\n",
    "        TwitterUsername(username = \"john_doe\", \n",
    "            free_account_post_length = \"\"\"\n",
    "            The schoolhouse stood in a rather lonely but pleasant situation, situated on a slight hill in a field of thistle and rye grass, surrounded by nature.\n",
    "            \"\"\", \n",
    "\n",
    "            premium_account_post_length = \"\"\"\n",
    "            The schoolhouse stood in a rather lonely but pleasant situation, situated on a slight hill in a field of thistle and rye grass, surrounded by nature and isolated from the busy world.\n",
    "            It was described as a gray and weathered wooden building, possibly a hundred years old, standing alone with a broken double door and four windows on each side, its tower-like steeple pointing upward in a saddened majesty.\n",
    "            \"\"\"\n",
    "        )\n",
    "    except ValidationError as e:\n",
    "        print(e)"
   ]
  },
  {
   "cell_type": "code",
   "execution_count": 11,
   "id": "84c967b6",
   "metadata": {},
   "outputs": [
    {
     "name": "stdout",
     "output_type": "stream",
     "text": [
      "Twitter Field Validation\n"
     ]
    }
   ],
   "source": [
    "# checking the validation\n",
    "demo_str_field() # all fields are validated"
   ]
  },
  {
   "cell_type": "code",
   "execution_count": 12,
   "id": "e9d9edc8",
   "metadata": {},
   "outputs": [],
   "source": [
    "# Creating a demo to validate the boolean field\n",
    "def demo_bool_field():\n",
    "    print(\"\\n Boolean Field Default\")\n",
    "    account = TwitterUsername(\n",
    "        username = \"john_doe\", \n",
    "        free_account_post_length = \"\"\"\n",
    "        The schoolhouse stood in a rather lonely but pleasant situation, situated on a slight hill in a field of thistle and rye grass, surrounded by nature.\n",
    "        \"\"\", \n",
    "\n",
    "        premium_account_post_length = \"\"\"\n",
    "        The schoolhouse stood in a rather lonely but pleasant situation, situated on a slight hill in a field of thistle and rye grass, surrounded by nature and isolated from the busy world.\n",
    "        It was described as a gray and weathered wooden building, possibly a hundred years old, standing alone with a broken double door and four windows on each side, its tower-like steeple pointing upward in a saddened majesty.\n",
    "        \"\"\"\n",
    "    )\n",
    "    print(\"is_active =\", account.is_active)"
   ]
  },
  {
   "cell_type": "code",
   "execution_count": 13,
   "id": "8b695ce6",
   "metadata": {},
   "outputs": [
    {
     "name": "stdout",
     "output_type": "stream",
     "text": [
      "\n",
      " Boolean Field Default\n",
      "is_active = True\n"
     ]
    }
   ],
   "source": [
    "# Boolean field validation\n",
    "demo_bool_field()"
   ]
  },
  {
   "cell_type": "code",
   "execution_count": 14,
   "id": "df73ec3f",
   "metadata": {},
   "outputs": [
    {
     "name": "stdout",
     "output_type": "stream",
     "text": [
      "\n",
      " Boolean Field Default\n",
      "Created at = 2025-10-16 12:14:51.512256\n"
     ]
    }
   ],
   "source": [
    "# Checking the time the demo was created\n",
    "def demo_datetime_field():\n",
    "    print(\"\\n Boolean Field Default\")\n",
    "    account = TwitterUsername(\n",
    "        username = \"john_doe\", \n",
    "        free_account_post_length = \"\"\"\n",
    "        The schoolhouse stood in a rather lonely but pleasant situation, situated on a slight hill in a field of thistle and rye grass, surrounded by nature.\n",
    "        \"\"\", \n",
    "\n",
    "        premium_account_post_length = \"\"\"\n",
    "        The schoolhouse stood in a rather lonely but pleasant situation, situated on a slight hill in a field of thistle and rye grass, surrounded by nature and isolated from the busy world.\n",
    "        It was described as a gray and weathered wooden building, possibly a hundred years old, standing alone with a broken double door and four windows on each side, its tower-like steeple pointing upward in a saddened majesty.\n",
    "        \"\"\"\n",
    "    )\n",
    "    print(\"Created at =\", account.created_at)\n",
    "\n",
    "demo_datetime_field()"
   ]
  }
 ],
 "metadata": {
  "kernelspec": {
   "display_name": "Python 3",
   "language": "python",
   "name": "python3"
  },
  "language_info": {
   "codemirror_mode": {
    "name": "ipython",
    "version": 3
   },
   "file_extension": ".py",
   "mimetype": "text/x-python",
   "name": "python",
   "nbconvert_exporter": "python",
   "pygments_lexer": "ipython3",
   "version": "3.13.7"
  }
 },
 "nbformat": 4,
 "nbformat_minor": 5
}
