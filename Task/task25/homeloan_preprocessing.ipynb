{
 "cells": [
  {
   "cell_type": "markdown",
   "id": "4a457097",
   "metadata": {},
   "source": [
    "# **DATA PREPROCESSING BASED ON EDA INSIGHTS**"
   ]
  },
  {
   "cell_type": "markdown",
   "id": "1449a572",
   "metadata": {},
   "source": [
    "This notebook implements preprocessing steps based on the comprehensive EDA findings and recommendations. We'll follow the evidence-based approach from the EDA report to ensure our preprocessing aligns with the data patterns discovered.\n",
    "Based on the EDA report, we will:\n",
    "\n",
    "\n",
    "1. **Numerical Processing** - Log-transform `Total_Income`, `LoanAmount`. Apply Standard Scaling or MinMaxScaler to the transformed numerical features. \n",
    "2. **Categorical Processing** - One-Hot Encoding to the remaining categorical features  (e.g., Gender, Married, Education, Property_Area, etc.). \n",
    "3. **Feature Engineering** - Drop the non-predictive Loan_ID. Create Total_Income = ApplicantIncome + CoapplicantIncome.\n",
    "4. **Feature Selection** - Keep high-signal features, evaluate low-signal ones\n",
    "6. **Target Handling** - Classification approach with stratified splits\n",
    "\n",
    "\n",
    "- **High-signal features**: `ApplicantIncome`, `CoapplicantIncome`.\n",
    "- **Low-signal features**: `LoanAmount`\n",
    "- **Skewed Variables**: `ApplicantIncome`, `CoapplicantIncome`. (log-transform)\n",
    "- **Feature Engineering**- Total-Income"
   ]
  },
  {
   "cell_type": "markdown",
   "id": "eb440080",
   "metadata": {},
   "source": [
    "### **1. Import Libraries and Data Loading**\n"
   ]
  },
  {
   "cell_type": "code",
   "execution_count": 1,
   "id": "d9142ffb",
   "metadata": {},
   "outputs": [
    {
     "name": "stdout",
     "output_type": "stream",
     "text": [
      "Libraries imported successfully!\n"
     ]
    }
   ],
   "source": [
    "# Core libraries\n",
    "import pandas as pd\n",
    "import numpy as np\n",
    "import matplotlib.pyplot as plt\n",
    "import seaborn as sns\n",
    "import zipfile\n",
    "import warnings\n",
    "warnings.filterwarnings('ignore')\n",
    "\n",
    "#Preprocessing Libraries\n",
    "from sklearn.preprocessing import StandardScaler, OneHotEncoder, FunctionTransformer\n",
    "from sklearn.model_selection import train_test_split\n",
    "from sklearn.feature_selection import SelectFromModel\n",
    "from sklearn.compose import ColumnTransformer\n",
    "from sklearn.pipeline import Pipeline\n",
    "from sklearn.linear_model import LogisticRegression\n",
    "from sklearn.metrics import classification_report, confusion_matrix\n",
    "\n",
    "# Statistical libraries\n",
    "from scipy import stats\n",
    "from scipy.stats import zscore, skew\n",
    "\n",
    "# Set style for better visualizations\n",
    "plt.style.use('seaborn-v0_8')\n",
    "sns.set_palette(\"husl\")\n",
    "\n",
    "print(\"Libraries imported successfully!\")\n"
   ]
  },
  {
   "cell_type": "code",
   "execution_count": 2,
   "id": "a492ed9c",
   "metadata": {},
   "outputs": [
    {
     "name": "stdout",
     "output_type": "stream",
     "text": [
      "CSV file loaded successfully!\n",
      "Loaded DataFrame shape: (614, 12)\n",
      "\n",
      "First 5 rows of the loaded DataFrame:\n",
      "  Gender Married Dependents     Education Self_Employed  ApplicantIncome  \\\n",
      "0   Male      No          0      Graduate            No           5849.0   \n",
      "1   Male     Yes          1      Graduate            No           4583.0   \n",
      "2   Male     Yes          0      Graduate           Yes           3000.0   \n",
      "3   Male     Yes          0  Not Graduate            No           2583.0   \n",
      "4   Male      No          0      Graduate            No           6000.0   \n",
      "\n",
      "   CoapplicantIncome  LoanAmount  Loan_Amount_Term  Credit_History  \\\n",
      "0                0.0       128.0             360.0             1.0   \n",
      "1             1508.0       128.0             360.0             1.0   \n",
      "2                0.0        66.0             360.0             1.0   \n",
      "3             2358.0       120.0             360.0             1.0   \n",
      "4                0.0       141.0             360.0             1.0   \n",
      "\n",
      "  Property_Area Loan_Status  \n",
      "0         Urban           Y  \n",
      "1         Rural           N  \n",
      "2         Urban           Y  \n",
      "3         Urban           Y  \n",
      "4         Urban           Y  \n"
     ]
    }
   ],
   "source": [
    "\n",
    "file_path = 'df1_copy_saved.csv'\n",
    "\n",
    "df_loaded = pd.read_csv(file_path)\n",
    "\n",
    "print(\"CSV file loaded successfully!\")\n",
    "print(f\"Loaded DataFrame shape: {df_loaded.shape}\")\n",
    "print(\"\\nFirst 5 rows of the loaded DataFrame:\")\n",
    "print(df_loaded.head())"
   ]
  },
  {
   "cell_type": "markdown",
   "id": "588431a4",
   "metadata": {},
   "source": [
    "### **2. EDA-Based Data Quality Assessment**"
   ]
  },
  {
   "cell_type": "code",
   "execution_count": 27,
   "id": "2b92ca2e",
   "metadata": {},
   "outputs": [
    {
     "name": "stdout",
     "output_type": "stream",
     "text": [
      "\n",
      "1. Missing Values:\n",
      "No missing values found (as expected from EDA)\n",
      "\n",
      "2. Duplicate Rows:\n",
      "Number of duplicate rows: 1\n",
      "Percentage of duplicates: 0.16%\n",
      "\n",
      "3. Skewness Analysis (EDA identified right-skewed variables):\n",
      "ApplicantIncome: skewness = 1.037 (right-skewed)\n",
      "CoapplicantIncome: skewness = 1.010 (right-skewed)\n",
      "LoanAmount: skewness = 0.682 (right-skewed)\n",
      "\n",
      "4. Correlation with Loan_Status (EDA Evidence):\n",
      "High-signal features (|correlation| > 0.2):\n",
      "  Credit_History: 0.541\n",
      "\n",
      "Low-signal features (|correlation| < 0.1):\n",
      "  LoanAmount: -0.047\n",
      "  Loan_Amount_Term: -0.023\n",
      "  ApplicantIncome: -0.000\n",
      "  CoapplicantIncome: 0.012\n"
     ]
    }
   ],
   "source": [
    "# Creating a copy for preprocessing\n",
    "df_processed = df_loaded.copy()\n",
    "\n",
    "# Convert Loan_Status to numeric (Y=1, N=0)\n",
    "if df_processed['Loan_Status'].dtype == 'object':\n",
    "    df_processed['Loan_Status'] = df_processed['Loan_Status'].map({'Y': 1, 'N': 0})\n",
    "    \n",
    "\n",
    "# 1. Checking for missing values (EDA showed no missing values)\n",
    "print(\"\\n1. Missing Values:\")\n",
    "missing_values = df_processed.isnull().sum()\n",
    "if missing_values.sum() > 0:\n",
    "    print(missing_values[missing_values > 0])\n",
    "else:\n",
    "    print(\"No missing values found (as expected from EDA)\")\n",
    "\n",
    "# 2. Check for duplicates\n",
    "print(\"\\n2. Duplicate Rows:\")\n",
    "duplicates = df_processed.duplicated().sum()\n",
    "print(f\"Number of duplicate rows: {duplicates}\")\n",
    "if duplicates > 0:\n",
    "    print(f\"Percentage of duplicates: {(duplicates/len(df_processed))*100:.2f}%\")\n",
    "\n",
    "# 3. Checking skewness for variables identified in EDA as right-skewed\n",
    "print(\"\\n3. Skewness Analysis (EDA identified right-skewed variables):\")\n",
    "skewed_vars = ['ApplicantIncome', 'CoapplicantIncome', 'LoanAmount']\n",
    "for var in skewed_vars:\n",
    "    if var in df_processed.columns:\n",
    "        skewness = skew(df_processed[var])\n",
    "        print(f\"{var}: skewness = {skewness:.3f} ({'right-skewed' if skewness > 0.5 else 'approximately normal'})\")\n",
    "\n",
    "\n",
    "\n",
    "\n",
    "# 4. Correlation with target (EDA Evidence)\n",
    "print(\"\\n4. Correlation with Loan_Status (EDA Evidence):\")\n",
    "numeric_df = df_processed.select_dtypes(include=[np.number])\n",
    "correlations = numeric_df.corr()['Loan_Status'].sort_values()\n",
    "\n",
    "# Display high-signal and low-signal features\n",
    "print(\"High-signal features (|correlation| > 0.2):\")\n",
    "high_signal = correlations[abs(correlations) > 0.2].drop('Loan_Status')\n",
    "for feature, corr in high_signal.items():\n",
    "    print(f\"  {feature}: {corr:.3f}\")\n",
    "\n",
    "print(\"\\nLow-signal features (|correlation| < 0.1):\")\n",
    "low_signal = correlations[abs(correlations) < 0.1]\n",
    "for feature, corr in low_signal.items():\n",
    "    print(f\"  {feature}: {corr:.3f}\")\n",
    "    \n"
   ]
  },
  {
   "cell_type": "markdown",
   "id": "d317b5c3",
   "metadata": {},
   "source": [
    "### **3. Handle Duplicates**"
   ]
  },
  {
   "cell_type": "code",
   "execution_count": 7,
   "id": "a1dcf8e8",
   "metadata": {},
   "outputs": [
    {
     "name": "stdout",
     "output_type": "stream",
     "text": [
      "Removing 1 duplicate rows...\n",
      "Dataset shape after removing duplicates: (613, 12)\n"
     ]
    }
   ],
   "source": [
    "# Removing duplicates if any \n",
    "if duplicates > 0:\n",
    "    print(f\"Removing {duplicates} duplicate rows...\")\n",
    "    df_processed = df_processed.drop_duplicates()\n",
    "    print(f\"Dataset shape after removing duplicates: {df_processed.shape}\")\n",
    "else:\n",
    "    print(\"✓ No duplicates to remove (as expected from EDA)\")\n"
   ]
  },
  {
   "cell_type": "markdown",
   "id": "fe82c12b",
   "metadata": {},
   "source": [
    "### **4. Log-Transform Skewed Variables (EDA Recommendation)**"
   ]
  },
  {
   "cell_type": "code",
   "execution_count": 8,
   "id": "e64bf9fe",
   "metadata": {},
   "outputs": [
    {
     "name": "stdout",
     "output_type": "stream",
     "text": [
      "=== LOG-TRANSFORMING SKEWED VARIABLES ===\n",
      "EDA identified these variables as right-skewed and recommended log transformation:\n",
      "✓ ApplicantIncome: Applied log transformation\n",
      "  Original skewness: 1.042 → Transformed skewness: -0.597\n",
      "✓ CoapplicantIncome: Applied log1p transformation (had 0.000 minimum value)\n",
      "  Original skewness: 1.008 → Transformed skewness: -0.188\n",
      "✓ LoanAmount: Applied log transformation\n",
      "  Original skewness: 0.683 → Transformed skewness: -0.941\n",
      "\n",
      "Dataset shape after log transformation: (613, 15)\n",
      "New log-transformed columns: ['ApplicantIncome_log', 'CoapplicantIncome_log', 'LoanAmount_log']\n"
     ]
    }
   ],
   "source": [
    "# Log-transform skewed variables as recommended by EDA\n",
    "print(\"=== LOG-TRANSFORMING SKEWED VARIABLES ===\")\n",
    "print(\"EDA identified these variables as right-skewed and recommended log transformation:\")\n",
    "\n",
    "# Variables to log-transform based on EDA findings\n",
    "skewed_vars = ['ApplicantIncome', 'CoapplicantIncome', 'LoanAmount']\n",
    "\n",
    "for var in skewed_vars:\n",
    "    if var in df_processed.columns:\n",
    "        # Check if variable has zero or negative values\n",
    "        min_val = df_processed[var].min()\n",
    "        if min_val <= 0:\n",
    "            # Use log1p for variables with zeros\n",
    "            df_processed[f'{var}_log'] = np.log1p(df_processed[var])\n",
    "            print(f\"✓ {var}: Applied log1p transformation (had {min_val:.3f} minimum value)\")\n",
    "        else:\n",
    "            # Use log for positive values only\n",
    "            df_processed[f'{var}_log'] = np.log(df_processed[var])\n",
    "            print(f\"✓ {var}: Applied log transformation\")\n",
    "        \n",
    "        # Check skewness before and after\n",
    "        original_skew = skew(df_processed[var])\n",
    "        transformed_skew = skew(df_processed[f'{var}_log'])\n",
    "        print(f\"  Original skewness: {original_skew:.3f} → Transformed skewness: {transformed_skew:.3f}\")\n",
    "\n",
    "print(f\"\\nDataset shape after log transformation: {df_processed.shape}\")\n",
    "print(\"New log-transformed columns:\", [col for col in df_processed.columns if '_log' in col])\n"
   ]
  },
  {
   "cell_type": "markdown",
   "id": "d80aa5ab",
   "metadata": {},
   "source": [
    "### **5. Outlier Treatment**"
   ]
  },
  {
   "cell_type": "code",
   "execution_count": 9,
   "id": "19b0ad3c",
   "metadata": {},
   "outputs": [
    {
     "name": "stdout",
     "output_type": "stream",
     "text": [
      "=== OUTLIER TREATMENT (IQR-CAPPING METHOD) ===\n",
      "EDA recommended IQR-capping for extreme acidity/sulphates to preserve data points\n",
      "Treating outliers in 8 numerical features...\n",
      "✓ ApplicantIncome: Capped 50 outliers\n",
      "✓ LoanAmount: Capped 40 outliers\n",
      "✓ Loan_Amount_Term: Capped 88 outliers\n",
      "✓ Credit_History: Capped 89 outliers\n",
      "✓ ApplicantIncome_log: Capped 6 outliers\n",
      "✓ LoanAmount_log: Capped 18 outliers\n",
      "\n",
      "Total outliers capped: 291\n",
      "Dataset shape after outlier treatment: (613, 15)\n"
     ]
    }
   ],
   "source": [
    "# Outlier treatment based on EDA recommendations\n",
    "print(\"=== OUTLIER TREATMENT (IQR-CAPPING METHOD) ===\")\n",
    "print(\"EDA recommended IQR-capping for extreme acidity/sulphates to preserve data points\")\n",
    "\n",
    "# Define numerical columns (excluding target)\n",
    "numerical_cols = df_processed.select_dtypes(include=[np.number]).columns.tolist()\n",
    "\n",
    "\n",
    "print(f\"Treating outliers in {len(numerical_cols)} numerical features...\")\n",
    "\n",
    "# Apply IQR-capping method\n",
    "outliers_capped = 0\n",
    "for col in numerical_cols:\n",
    "    Q1 = df_processed[col].quantile(0.25)\n",
    "    Q3 = df_processed[col].quantile(0.75)\n",
    "    IQR = Q3 - Q1\n",
    "    lower_bound = Q1 - 1.5 * IQR\n",
    "    upper_bound = Q3 + 1.5 * IQR\n",
    "    \n",
    "    # Count outliers before capping\n",
    "    outliers_before = ((df_processed[col] < lower_bound) | (df_processed[col] > upper_bound)).sum()\n",
    "    \n",
    "    if outliers_before > 0:\n",
    "        # Cap outliers\n",
    "        df_processed[col] = np.where(df_processed[col] < lower_bound, lower_bound, df_processed[col])\n",
    "        df_processed[col] = np.where(df_processed[col] > upper_bound, upper_bound, df_processed[col])\n",
    "        outliers_capped += outliers_before\n",
    "        print(f\"✓ {col}: Capped {outliers_before} outliers\")\n",
    "\n",
    "print(f\"\\nTotal outliers capped: {outliers_capped}\")\n",
    "print(f\"Dataset shape after outlier treatment: {df_processed.shape}\")\n"
   ]
  },
  {
   "cell_type": "markdown",
   "id": "fe6f6da3",
   "metadata": {},
   "source": [
    "### **6. Feature Engineering**\n",
    "\n"
   ]
  },
  {
   "cell_type": "markdown",
   "id": "0254988a",
   "metadata": {},
   "source": [
    "Implementing the specific feature engineering recommendations from the EDA report."
   ]
  },
  {
   "cell_type": "code",
   "execution_count": 11,
   "id": "dfe9e929",
   "metadata": {},
   "outputs": [
    {
     "name": "stdout",
     "output_type": "stream",
     "text": [
      "FEATURE ENGINEERING BASED ON EDA RECOMMENDATIONS\n",
      "- Total_Income: ApplicantIncome + CoapplicantIncome\n",
      "\n",
      "Dataset shape after feature engineering: (613, 16)\n",
      "New engineered features: ['ApplicantIncome_log', 'CoapplicantIncome_log', 'LoanAmount_log', 'Total_Income']\n"
     ]
    }
   ],
   "source": [
    "print(\"FEATURE ENGINEERING BASED ON EDA RECOMMENDATIONS\")\n",
    "\n",
    "#Total_Income (EDA Referenced Stable Predictor)\n",
    "df_processed['Total_Income'] = df_processed['ApplicantIncome'] + df_processed['CoapplicantIncome']\n",
    "print(\"- Total_Income: ApplicantIncome + CoapplicantIncome\")\n",
    "\n",
    "print(f\"\\nDataset shape after feature engineering: {df_processed.shape}\")\n",
    "print(f\"New engineered features: {[col for col in df_processed.columns if col not in df.columns]}\")\n"
   ]
  },
  {
   "cell_type": "markdown",
   "id": "71192ace",
   "metadata": {},
   "source": [
    "### **7. Feature Selection**"
   ]
  },
  {
   "cell_type": "code",
   "execution_count": 13,
   "id": "e1dbee18",
   "metadata": {},
   "outputs": [
    {
     "name": "stdout",
     "output_type": "stream",
     "text": [
      "=== FEATURE SELECTION BASED ON EDA CORRELATION EVIDENCE ===\n",
      "Total features available: 15\n",
      "\n",
      "EDA-identified high-signal features: ['ApplicantIncome', 'CoapplicantIncome', 'LoanAmount']\n",
      "EDA-identified low-signal features: ['Credit_History', 'Loan_Amount_Term']\n",
      "\n",
      "Available high-signal features: ['ApplicantIncome', 'CoapplicantIncome', 'LoanAmount']\n",
      "Available low-signal features: ['Credit_History', 'Loan_Amount_Term']\n",
      "\n",
      "=== FEATURE SETS FOR EVALUATION ===\n",
      "Set 1 - Exclude low-signal features: 13 features\n",
      "Set 2 - High-signal + engineered: 7 features\n",
      "Set 3 - All features: 15 features\n",
      "\n",
      "✓ Selected feature set: 7 features\n",
      "Selected features: ['ApplicantIncome', 'CoapplicantIncome', 'LoanAmount', 'ApplicantIncome_log', 'CoapplicantIncome_log', 'LoanAmount_log', 'Total_Income']\n"
     ]
    }
   ],
   "source": [
    "print(\"=== FEATURE SELECTION BASED ON EDA CORRELATION EVIDENCE ===\")\n",
    "\n",
    "# Separate features and target\n",
    "X = df_processed.drop(columns= ['Loan_Status'])\n",
    "y = df_processed['Loan_Status'].apply(lambda x: 1 if x == 'Y' else 0)\n",
    "\n",
    "print(f\"Total features available: {X.shape[1]}\")\n",
    "\n",
    "# EDA-identified high-signal features (|correlation| > 0.2)\n",
    "high_signal_features = ['ApplicantIncome', 'CoapplicantIncome', 'LoanAmount']\n",
    "print(f\"\\nEDA-identified high-signal features: {high_signal_features}\")\n",
    "\n",
    "# EDA-identified low-signal features (|correlation| < 0.1) \n",
    "low_signal_features = ['Credit_History', 'Loan_Amount_Term']\n",
    "print(f\"EDA-identified low-signal features: {low_signal_features}\")\n",
    "\n",
    "# Check which features are actually available\n",
    "available_high_signal = [f for f in high_signal_features if f in X.columns]\n",
    "available_low_signal = [f for f in low_signal_features if f in X.columns]\n",
    "\n",
    "print(f\"\\nAvailable high-signal features: {available_high_signal}\")\n",
    "print(f\"Available low-signal features: {available_low_signal}\")\n",
    "\n",
    "# Create feature sets for evaluation\n",
    "print(\"\\n=== FEATURE SETS FOR EVALUATION ===\")\n",
    "\n",
    "# Set 1: All original features (excluding low-signal)\n",
    "features_exclude_low_signal = [col for col in X.columns if col not in low_signal_features]\n",
    "print(f\"Set 1 - Exclude low-signal features: {len(features_exclude_low_signal)} features\")\n",
    "\n",
    "# Set 2: High-signal + engineered features\n",
    "high_signal_plus_engineered = available_high_signal + [col for col in X.columns if any(keyword in col.lower() for keyword in ['ratio', 'interaction', 'balance', 'total', 'log'])]\n",
    "print(f\"Set 2 - High-signal + engineered: {len(high_signal_plus_engineered)} features\")\n",
    "\n",
    "# Set 3: All features (for comparison)\n",
    "all_features = list(X.columns)\n",
    "print(f\"Set 3 - All features: {len(all_features)} features\")\n",
    "\n",
    "# Let's use Set 2 (high-signal + engineered) as recommended by EDA\n",
    "selected_features = high_signal_plus_engineered\n",
    "print(f\"\\n✓ Selected feature set: {len(selected_features)} features\")\n",
    "print(\"Selected features:\", selected_features)"
   ]
  },
  {
   "cell_type": "markdown",
   "id": "5abb3e1f",
   "metadata": {},
   "source": [
    "### **8. Data Splitting (Stratified)**"
   ]
  },
  {
   "cell_type": "markdown",
   "id": "a9e891d8",
   "metadata": {},
   "source": [
    "\n",
    "Based on EDA findings about class imbalance, use stratified splitting\n"
   ]
  },
  {
   "cell_type": "code",
   "execution_count": 14,
   "id": "d6b810cd",
   "metadata": {},
   "outputs": [
    {
     "name": "stdout",
     "output_type": "stream",
     "text": [
      "=== STRATIFIED DATA SPLITTING ===\n",
      "EDA identified class imbalance - using stratified splitting to preserve class distribution\n",
      "Selected features shape: (613, 7)\n",
      "\n",
      "Data split results:\n",
      "Training set: (367, 7) (59.9%)\n",
      "Validation set: (123, 7) (20.1%)\n",
      "Test set: (123, 7) (20.1%)\n",
      "\n",
      "Class distribution verification:\n",
      "Training set quality distribution:\n",
      "Loan_Status\n",
      "0    115\n",
      "1    252\n",
      "Name: count, dtype: int64\n",
      "\n",
      "Validation set quality distribution:\n",
      "Loan_Status\n",
      "0    38\n",
      "1    85\n",
      "Name: count, dtype: int64\n",
      "\n",
      "Test set quality distribution:\n",
      "Loan_Status\n",
      "0    39\n",
      "1    84\n",
      "Name: count, dtype: int64\n"
     ]
    }
   ],
   "source": [
    "# Stratified data splitting based on EDA findings about class imbalance\n",
    "print(\"=== STRATIFIED DATA SPLITTING ===\")\n",
    "print(\"EDA identified class imbalance - using stratified splitting to preserve class distribution\")\n",
    "\n",
    "# Selecting the chosen features\n",
    "X_selected = X[selected_features]\n",
    "print(f\"Selected features shape: {X_selected.shape}\")\n",
    "\n",
    "# First split: 80% train+val, 20% test\n",
    "X_temp, X_test, y_temp, y_test = train_test_split(\n",
    "    X_selected, y, test_size=0.2, random_state=42, stratify=y\n",
    ")\n",
    "\n",
    "# Second split: 75% train, 25% validation (of the 80%)\n",
    "X_train, X_val, y_train, y_val = train_test_split(\n",
    "    X_temp, y_temp, test_size=0.25, random_state=42, stratify=y_temp\n",
    ")\n",
    "\n",
    "print(f\"\\nData split results:\")\n",
    "print(f\"Training set: {X_train.shape} ({(X_train.shape[0]/len(X_selected))*100:.1f}%)\")\n",
    "print(f\"Validation set: {X_val.shape} ({(X_val.shape[0]/len(X_selected))*100:.1f}%)\")\n",
    "print(f\"Test set: {X_test.shape} ({(X_test.shape[0]/len(X_selected))*100:.1f}%)\")\n",
    "\n",
    "# Checking class distribution in each set \n",
    "print(f\"\\nClass distribution verification:\")\n",
    "print(\"Training set quality distribution:\")\n",
    "print(y_train.value_counts().sort_index())\n",
    "print(\"\\nValidation set quality distribution:\")\n",
    "print(y_val.value_counts().sort_index())\n",
    "print(\"\\nTest set quality distribution:\")\n",
    "print(y_test.value_counts().sort_index())\n"
   ]
  },
  {
   "cell_type": "markdown",
   "id": "896df9ce",
   "metadata": {},
   "source": [
    "### **9. Feature Scaling**"
   ]
  },
  {
   "cell_type": "markdown",
   "id": "7204b50d",
   "metadata": {},
   "source": [
    "\n",
    "Apply StandardScaler as recommended by EDA for distance-based models.\n"
   ]
  },
  {
   "cell_type": "code",
   "execution_count": 15,
   "id": "8edc7041",
   "metadata": {},
   "outputs": [
    {
     "name": "stdout",
     "output_type": "stream",
     "text": [
      "=== FEATURE SCALING (STANDARD SCALER) ===\n",
      "EDA recommended StandardScaler for distance-based models\n",
      "✓ Scaling applied successfully!\n",
      "Training set scaled - Mean: -0.0000, Std: 1.0014\n",
      "Validation set scaled - Mean: 0.0098, Std: 1.0605\n",
      "Test set scaled - Mean: 0.0363, Std: 1.0537\n",
      "\n",
      "Scaling verification:\n",
      "Training set - Mean ≈ 0: True\n",
      "Training set - Std ≈ 1: True\n"
     ]
    }
   ],
   "source": [
    "# Applying StandardScaler as recommended by EDA\n",
    "print(\"=== FEATURE SCALING (STANDARD SCALER) ===\")\n",
    "print(\"EDA recommended StandardScaler for distance-based models\")\n",
    "\n",
    "# Fitting scaler on training data only (to avoid data leakage)\n",
    "scaler = StandardScaler()\n",
    "X_train_scaled = scaler.fit_transform(X_train)\n",
    "X_train_scaled = pd.DataFrame(X_train_scaled, columns=X_train.columns)\n",
    "\n",
    "# Transform validation and test sets\n",
    "X_val_scaled = scaler.transform(X_val)\n",
    "X_val_scaled = pd.DataFrame(X_val_scaled, columns=X_val.columns)\n",
    "\n",
    "X_test_scaled = scaler.transform(X_test)\n",
    "X_test_scaled = pd.DataFrame(X_test_scaled, columns=X_test.columns)\n",
    "\n",
    "print(\"✓ Scaling applied successfully!\")\n",
    "print(f\"Training set scaled - Mean: {X_train_scaled.mean().mean():.4f}, Std: {X_train_scaled.std().mean():.4f}\")\n",
    "print(f\"Validation set scaled - Mean: {X_val_scaled.mean().mean():.4f}, Std: {X_val_scaled.std().mean():.4f}\")\n",
    "print(f\"Test set scaled - Mean: {X_test_scaled.mean().mean():.4f}, Std: {X_test_scaled.std().mean():.4f}\")\n",
    "\n",
    "# Verifying scaling worked correctly\n",
    "print(f\"\\nScaling verification:\")\n",
    "print(f\"Training set - Mean ≈ 0: {abs(X_train_scaled.mean().mean()) < 0.01}\")\n",
    "print(f\"Training set - Std ≈ 1: {abs(X_train_scaled.std().mean() - 1) < 0.01}\")\n"
   ]
  },
  {
   "cell_type": "markdown",
   "id": "d8acbd60",
   "metadata": {},
   "source": [
    "### **10. Feature Importance Analysis**"
   ]
  },
  {
   "cell_type": "markdown",
   "id": "87c07af1",
   "metadata": {},
   "source": [
    "Analyze the importance of engineered features based on EDA recommendations."
   ]
  },
  {
   "cell_type": "code",
   "execution_count": 16,
   "id": "3fb078f2",
   "metadata": {},
   "outputs": [
    {
     "name": "stdout",
     "output_type": "stream",
     "text": [
      "=== FEATURE IMPORTANCE ANALYSIS ===\n",
      "Top 10 features by correlation with quality:\n",
      " 1. ApplicantIncome: 0.064\n",
      " 2. Total_Income: 0.050\n",
      " 3. ApplicantIncome_log: 0.028\n",
      " 4. LoanAmount_log: 0.023\n",
      " 5. CoapplicantIncome_log: 0.016\n",
      " 6. CoapplicantIncome: 0.013\n",
      " 7. LoanAmount: 0.007\n",
      "\n",
      "Engineered features in top 10: ['ApplicantIncome_log', 'CoapplicantIncome_log', 'LoanAmount_log', 'Total_Income']\n"
     ]
    },
    {
     "data": {
      "image/png": "[encoded data removed]",
      "text/plain": [
       "<Figure size 1200x800 with 1 Axes>"
      ]
     },
     "metadata": {},
     "output_type": "display_data"
    },
    {
     "name": "stdout",
     "output_type": "stream",
     "text": [
      "\n",
      "✓ Feature importance analysis completed\n",
      "✓ 4 engineered features in top 10\n"
     ]
    }
   ],
   "source": [
    "# Feature importance analysis to validate EDA-based engineering\n",
    "print(\"=== FEATURE IMPORTANCE ANALYSIS ===\")\n",
    "\n",
    "# Calculate correlation with target for all features\n",
    "feature_correlations = X_train_scaled.corrwith(y_train).abs().sort_values(ascending=False)\n",
    "\n",
    "print(\"Top 10 features by correlation with quality:\")\n",
    "for i, (feature, corr) in enumerate(feature_correlations.head(10).items(), 1):\n",
    "    print(f\"{i:2d}. {feature}: {corr:.3f}\")\n",
    "\n",
    "# Check if engineered features are among top features\n",
    "engineered_features = [col for col in X_train_scaled.columns if any(keyword in col.lower() for keyword in ['ratio', 'interaction', 'balance', 'total', 'log'])]\n",
    "print(f\"\\nEngineered features in top 10: {[f for f in engineered_features if f in feature_correlations.head(10).index]}\")\n",
    "\n",
    "# Visualize feature importance\n",
    "plt.figure(figsize=(12, 8))\n",
    "top_features = feature_correlations.head(15)\n",
    "colors = ['red' if any(keyword in f.lower() for keyword in ['ratio', 'interaction', 'balance', 'total', 'log']) else 'blue' for f in top_features.index]\n",
    "\n",
    "plt.barh(range(len(top_features)), top_features.values, color=colors)\n",
    "plt.yticks(range(len(top_features)), top_features.index)\n",
    "plt.xlabel('Absolute Correlation with Quality')\n",
    "plt.title('Top 15 Features by Correlation with Quality\\n(Red = Engineered Features)')\n",
    "plt.gca().invert_yaxis()\n",
    "plt.tight_layout()\n",
    "plt.show()\n",
    "\n",
    "print(f\"\\n✓ Feature importance analysis completed\")\n",
    "print(f\"✓ {len([f for f in engineered_features if f in feature_correlations.head(10).index])} engineered features in top 10\")\n"
   ]
  },
  {
   "cell_type": "markdown",
   "id": "0bbed770",
   "metadata": {},
   "source": [
    "### **11. Save Preprocessed Data**"
   ]
  },
  {
   "cell_type": "markdown",
   "id": "3aac6c5c",
   "metadata": {},
   "source": [
    "\n",
    "Save all preprocessed datasets and preprocessing objects for modeling"
   ]
  },
  {
   "cell_type": "code",
   "execution_count": 17,
   "id": "525a215d",
   "metadata": {},
   "outputs": [
    {
     "name": "stdout",
     "output_type": "stream",
     "text": [
      "SAVING PREPROCESSED DATA \n",
      "- Preprocessed data saved successfully!\n",
      "\n",
      "Files created:\n",
      "- X_train_scaled.csv, X_val_scaled.csv, X_test_scaled.csv\n",
      "- y_train.csv, y_val.csv, y_test.csv\n",
      "- scaler.pkl, selected_features.pkl\n",
      "- feature_importance.csv, preprocessing_summary.json\n"
     ]
    }
   ],
   "source": [
    "print(\"SAVING PREPROCESSED DATA \")\n",
    "\n",
    "# Save scaled datasets\n",
    "X_train_scaled.to_csv('X_train_scaled.csv', index=False)\n",
    "X_val_scaled.to_csv('X_val_scaled.csv', index=False)\n",
    "X_test_scaled.to_csv('X_test_scaled.csv', index=False)\n",
    "\n",
    "# Save target variables\n",
    "y_train.to_csv('y_train.csv', index=False)\n",
    "y_val.to_csv('y_val.csv', index=False)\n",
    "y_test.to_csv('y_test.csv', index=False)\n",
    "\n",
    "# Save preprocessing objects\n",
    "import joblib\n",
    "joblib.dump(scaler, 'scaler.pkl')\n",
    "joblib.dump(selected_features, 'selected_features.pkl')\n",
    "\n",
    "# Save feature importance\n",
    "feature_importance_df = pd.DataFrame({\n",
    "    'feature': feature_correlations.index,\n",
    "    'correlation': feature_correlations.values\n",
    "})\n",
    "feature_importance_df.to_csv('feature_importance.csv', index=False)\n",
    "\n",
    "# Save preprocessing summary\n",
    "preprocessing_summary = {\n",
    "    'original_shape': df.shape,\n",
    "    'final_shape': df_processed.shape,\n",
    "    'selected_features': selected_features,\n",
    "    'engineered_features': engineered_features,\n",
    "    'train_samples': X_train_scaled.shape[0],\n",
    "    'val_samples': X_val_scaled.shape[0],\n",
    "    'test_samples': X_test_scaled.shape[0],\n",
    "    'scaling_method': 'StandardScaler',\n",
    "    'outlier_treatment': 'IQR_capping',\n",
    "    'log_transformed': ['residual sugar', 'total sulfur dioxide', 'chlorides']\n",
    "}\n",
    "\n",
    "import json\n",
    "with open('preprocessing_summary.json', 'w') as f:\n",
    "    json.dump(preprocessing_summary, f, indent=2)\n",
    "\n",
    "print(\"- Preprocessed data saved successfully!\")\n",
    "print(\"\\nFiles created:\")\n",
    "print(\"- X_train_scaled.csv, X_val_scaled.csv, X_test_scaled.csv\")\n",
    "print(\"- y_train.csv, y_val.csv, y_test.csv\")\n",
    "print(\"- scaler.pkl, selected_features.pkl\")\n",
    "print(\"- feature_importance.csv, preprocessing_summary.json\")\n"
   ]
  },
  {
   "cell_type": "markdown",
   "id": "ea70b746",
   "metadata": {},
   "source": [
    "### **12. Preprocessing Summary**"
   ]
  },
  {
   "cell_type": "code",
   "execution_count": 18,
   "id": "2ee992af",
   "metadata": {},
   "outputs": [
    {
     "name": "stdout",
     "output_type": "stream",
     "text": [
      ".....PREPROCESSING SUMMARY BASED ON EDA INSIGHTS.....\n",
      "Original dataset shape: (614, 12)\n",
      "Final processed dataset shape: (613, 16)\n",
      "Selected features: 7\n",
      "Training samples: 367\n",
      "Validation samples: 123\n",
      "Test samples: 123\n",
      "\n",
      ".....PREPROCESSING STEPS COMPLETED (EDA-BASED).....\n",
      "> Data quality assessment (no missing values, duplicates handled)\n",
      "> Log-transformation of skewed variables (ApplicantIncome, CoapplicantIncome, LoanAmount)\n",
      "> Outlier treatment using IQR-capping method\n",
      "> Feature engineering based on EDA recommendations:\n",
      "  Total_Income (ApplicantIncome + CoapplicantIncome)\n",
      "> Feature selection (high-signal features + engineered features)\n",
      "> Stratified data splitting (preserves class distribution)\n",
      "> StandardScaler applied (EDA recommendation for distance-based models)\n",
      "> Feature importance analysis (validates engineered features)\n",
      "> Data export (ready for modeling)\n",
      "\n",
      ".....EDA EVIDENCE IMPLEMENTED.....\n",
      "> High-signal features prioritized: ApplicantIncome, CoapplicantIncome, LoanAmount\n",
      "> Low-signal features excluded: Credit_History, Loan_Amount_Term\n",
      "> Skewed variables log-transformed as recommended\n",
      "> Total Income created based on bivariate analysis\n",
      "\n",
      " Preprocessing completed successfully!!!!!!\n",
      ".....Ready for modeling phase with EDA-informed preprocessing\n"
     ]
    }
   ],
   "source": [
    "# Final preprocessing summary\n",
    "print(\".....PREPROCESSING SUMMARY BASED ON EDA INSIGHTS.....\")\n",
    "print(f\"Original dataset shape: {df.shape}\")\n",
    "print(f\"Final processed dataset shape: {df_processed.shape}\")\n",
    "print(f\"Selected features: {len(selected_features)}\")\n",
    "print(f\"Training samples: {X_train_scaled.shape[0]}\")\n",
    "print(f\"Validation samples: {X_val_scaled.shape[0]}\")\n",
    "print(f\"Test samples: {X_test_scaled.shape[0]}\")\n",
    "\n",
    "print(\"\\n.....PREPROCESSING STEPS COMPLETED (EDA-BASED).....\")\n",
    "print(\"> Data quality assessment (no missing values, duplicates handled)\")\n",
    "print(\"> Log-transformation of skewed variables (ApplicantIncome, CoapplicantIncome, LoanAmount)\")\n",
    "print(\"> Outlier treatment using IQR-capping method\")\n",
    "print(\"> Feature engineering based on EDA recommendations:\")\n",
    "print(\"  Total_Income (ApplicantIncome + CoapplicantIncome)\")\n",
    "print(\"> Feature selection (high-signal features + engineered features)\")\n",
    "print(\"> Stratified data splitting (preserves class distribution)\")\n",
    "print(\"> StandardScaler applied (EDA recommendation for distance-based models)\")\n",
    "print(\"> Feature importance analysis (validates engineered features)\")\n",
    "print(\"> Data export (ready for modeling)\")\n",
    "\n",
    "print(\"\\n.....EDA EVIDENCE IMPLEMENTED.....\")\n",
    "print(\"> High-signal features prioritized: ApplicantIncome, CoapplicantIncome, LoanAmount\")\n",
    "print(\"> Low-signal features excluded: Credit_History, Loan_Amount_Term\")\n",
    "print(\"> Skewed variables log-transformed as recommended\")\n",
    "print(\"> Total Income created based on bivariate analysis\")\n",
    "\n",
    "print(f\"\\n Preprocessing completed successfully!!!!!!\")\n",
    "print(\".....Ready for modeling phase with EDA-informed preprocessing\")\n"
   ]
  }
 ],
 "metadata": {
  "kernelspec": {
   "display_name": "model",
   "language": "python",
   "name": "python3"
  },
  "language_info": {
   "codemirror_mode": {
    "name": "ipython",
    "version": 3
   },
   "file_extension": ".py",
   "mimetype": "text/x-python",
   "name": "python",
   "nbconvert_exporter": "python",
   "pygments_lexer": "ipython3",
   "version": "3.13.7"
  }
 },
 "nbformat": 4,
 "nbformat_minor": 5
}
