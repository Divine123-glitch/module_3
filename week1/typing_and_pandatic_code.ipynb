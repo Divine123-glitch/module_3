{
 "cells": [
  {
   "cell_type": "code",
   "execution_count": 1,
   "id": "d9776c72",
   "metadata": {},
   "outputs": [
    {
     "name": "stdout",
     "output_type": "stream",
     "text": [
      "Joshua's average score is 86.5\n"
     ]
    },
    {
     "data": {
      "text/plain": [
       "86.5"
      ]
     },
     "execution_count": 1,
     "metadata": {},
     "output_type": "execute_result"
    }
   ],
   "source": [
    "def get_average(name: str, scores: list[float]) -> float:\n",
    "    average_score = sum(scores)/len(scores)\n",
    "    print(f\"{name}'s average score is {average_score}\")\n",
    "    return average_score\n",
    "\n",
    "\n",
    "get_average(\"Joshua\", [85.5, 90.0, 78.5, 92.0])"
   ]
  },
  {
   "cell_type": "code",
   "execution_count": 2,
   "id": "f9a3f0a5",
   "metadata": {},
   "outputs": [],
   "source": [
    "from typing import List, Dict, Union, Optional\n",
    "\n",
    "def process_scores(\n",
    "    scores: List[int],\n",
    "    info: Dict[str, Union[int, float]],\n",
    "    comment: Optional[str] = None)-> None:\n",
    "     print(\"Scores:\", scores)\n",
    "     print(\"Info:\", info)\n",
    "     if comment:\n",
    "         print(\"Comment:\", comment)"
   ]
  },
  {
   "cell_type": "code",
   "execution_count": 3,
   "id": "acd31465",
   "metadata": {},
   "outputs": [],
   "source": [
    "from typing import Union\n",
    "def get_fellow_id(id: Union[int, str]) -> str:\n",
    "    return f\"Fellow ID: {id}\""
   ]
  },
  {
   "cell_type": "code",
   "execution_count": 4,
   "id": "3ee48ccf",
   "metadata": {},
   "outputs": [
    {
     "name": "stdout",
     "output_type": "stream",
     "text": [
      "Fellow ID: HAB32\n",
      "Fellow ID: 12345\n"
     ]
    }
   ],
   "source": [
    "print(get_fellow_id(\"HAB32\"))\n",
    "print(get_fellow_id(12345))"
   ]
  },
  {
   "cell_type": "code",
   "execution_count": 5,
   "id": "8cad31f0",
   "metadata": {},
   "outputs": [
    {
     "name": "stdout",
     "output_type": "stream",
     "text": [
      "Fellow ID: 42.0\n"
     ]
    }
   ],
   "source": [
    "print(get_fellow_id(42.0))"
   ]
  },
  {
   "cell_type": "code",
   "execution_count": 6,
   "id": "753787d1",
   "metadata": {},
   "outputs": [],
   "source": [
    "def get_fellow_id(id: int | str) -> str:\n",
    "    return f\"fellow ID: {id}\""
   ]
  },
  {
   "cell_type": "code",
   "execution_count": 7,
   "id": "63f37d3f",
   "metadata": {},
   "outputs": [
    {
     "name": "stdout",
     "output_type": "stream",
     "text": [
      "fellow ID: HAB32\n",
      "fellow ID: 12345\n"
     ]
    }
   ],
   "source": [
    "print(get_fellow_id(\"HAB32\"))\n",
    "print(get_fellow_id(12345))"
   ]
  },
  {
   "cell_type": "code",
   "execution_count": 8,
   "id": "e88800e1",
   "metadata": {},
   "outputs": [],
   "source": [
    "from typing import Union\n",
    "\n",
    "def format_address(house_number: Union[int, str], street: str) -> str:\n",
    "    return f\"{house_number} {street}\""
   ]
  },
  {
   "cell_type": "code",
   "execution_count": 9,
   "id": "338ed5ed",
   "metadata": {},
   "outputs": [
    {
     "name": "stdout",
     "output_type": "stream",
     "text": [
      "23 Ajelogo Street\n",
      "23B Ajelogo Street\n"
     ]
    }
   ],
   "source": [
    "print(format_address(23, \"Ajelogo Street\"))   # 23 Ajelogo Street\n",
    "print(format_address(\"23B\", \"Ajelogo Street\")) # 23B Ajelogo Street"
   ]
  },
  {
   "cell_type": "code",
   "execution_count": 10,
   "id": "6ed2506e",
   "metadata": {},
   "outputs": [],
   "source": [
    "def format_address(house_number: int | str, street: str) -> str:\n",
    "    return f\"{house_number} {street}\""
   ]
  },
  {
   "cell_type": "code",
   "execution_count": 11,
   "id": "a80a56e7",
   "metadata": {},
   "outputs": [
    {
     "name": "stdout",
     "output_type": "stream",
     "text": [
      "23 Ajelogo Street\n",
      "23B Ajelogo Street\n"
     ]
    }
   ],
   "source": [
    "print(format_address(23, \"Ajelogo Street\"))   # 23 Ajelogo Street\n",
    "print(format_address(\"23B\", \"Ajelogo Street\")) # 23B Ajelogo Street"
   ]
  },
  {
   "cell_type": "code",
   "execution_count": 12,
   "id": "a81b0903",
   "metadata": {},
   "outputs": [],
   "source": [
    "from typing  import Optional\n",
    "\n",
    "def greet(first_name: str, last_name:Optional[str] = None)-> None:\n",
    "    if last_name:\n",
    "        print(f\"Hello {first_name} {last_name}\")\n",
    "    else:\n",
    "        print(f\"Hello {first_name}\")"
   ]
  },
  {
   "cell_type": "code",
   "execution_count": 13,
   "id": "2e18da78",
   "metadata": {},
   "outputs": [
    {
     "name": "stdout",
     "output_type": "stream",
     "text": [
      "Hello Toyeebat Arike\n",
      "Hello Toyeebat\n"
     ]
    }
   ],
   "source": [
    "greet(\"Toyeebat\", \"Arike\")   \n",
    "greet(\"Toyeebat\")          \n"
   ]
  },
  {
   "cell_type": "code",
   "execution_count": 14,
   "id": "f219e712",
   "metadata": {},
   "outputs": [],
   "source": [
    "def find_user(username: str) -> Optional[dict]:\n",
    "    if username == \"admin\":\n",
    "        return {\"username\": \"admin\", \"role\": \"superuser\"}\n",
    "    return None"
   ]
  },
  {
   "cell_type": "code",
   "execution_count": 15,
   "id": "2d54dcd1",
   "metadata": {},
   "outputs": [
    {
     "data": {
      "text/plain": [
       "{'username': 'admin', 'role': 'superuser'}"
      ]
     },
     "execution_count": 15,
     "metadata": {},
     "output_type": "execute_result"
    }
   ],
   "source": [
    "find_user(\"David\")\n",
    "find_user(\"admin\")"
   ]
  },
  {
   "cell_type": "code",
   "execution_count": 1,
   "id": "73793146",
   "metadata": {},
   "outputs": [],
   "source": [
    "from typing import Dict\n",
    "\n",
    "fellow_scores: Dict[str, int] = {\n",
    "    \"David\": 89,\n",
    "    \"Micheal\": 98\n",
    "}"
   ]
  },
  {
   "cell_type": "code",
   "execution_count": 2,
   "id": "09d4ebd1",
   "metadata": {},
   "outputs": [],
   "source": [
    "from typing import Tuple\n",
    "\n",
    "fellow: Tuple[str, int, str] = (\"Perpetual\",88,\"AI Engineering\")"
   ]
  },
  {
   "cell_type": "code",
   "execution_count": 4,
   "id": "1a5b753e",
   "metadata": {},
   "outputs": [],
   "source": [
    "def ai_fellow(fellow: Tuple[str, int]) -> str:\n",
    "    name, score = fellow\n",
    "    return f\"{name} scored {score} in the last exam.\""
   ]
  },
  {
   "cell_type": "code",
   "execution_count": 5,
   "id": "a4d7d31f",
   "metadata": {},
   "outputs": [],
   "source": [
    "%%capture\n",
    "%pip install pydantic"
   ]
  },
  {
   "cell_type": "code",
   "execution_count": 6,
   "id": "a90e2256",
   "metadata": {},
   "outputs": [],
   "source": [
    "# importing pydantic\n",
    "from pydantic import BaseModel"
   ]
  },
  {
   "cell_type": "code",
   "execution_count": 7,
   "id": "ea00e444",
   "metadata": {},
   "outputs": [],
   "source": [
    "# Creating a pydantic model\n",
    "\n",
    "class Fellow(BaseModel):\n",
    "    name: str\n",
    "    score: int\n",
    "    course: str"
   ]
  },
  {
   "cell_type": "code",
   "execution_count": null,
   "id": "7690aca3",
   "metadata": {},
   "outputs": [
    {
     "data": {
      "text/plain": [
       "Fellow(name='Perpetual', score=88, course='AI Engineering')"
      ]
     },
     "execution_count": 9,
     "metadata": {},
     "output_type": "execute_result"
    }
   ],
   "source": [
    "# 1. Validation - It automatically validates data passed to it\n",
    "\n",
    "Fellow(name = \"Perpetual\", score = 88, course = \"AI Engineering\") # This will work fine"
   ]
  },
  {
   "cell_type": "code",
   "execution_count": 10,
   "id": "0f661b2d",
   "metadata": {},
   "outputs": [
    {
     "name": "stdout",
     "output_type": "stream",
     "text": [
      "<class 'int'>\n"
     ]
    }
   ],
   "source": [
    "#2. Parsing and type conversion - It automatically converts compatible types\n",
    "# It reads and interprets data\n",
    "\n",
    "p = Fellow(name=\"Perpetual\", score=\"88\", course=\"AI Engineering\")\n",
    "print(type(p.score))"
   ]
  },
  {
   "cell_type": "code",
   "execution_count": 12,
   "id": "c0c1dc7c",
   "metadata": {},
   "outputs": [
    {
     "name": "stdout",
     "output_type": "stream",
     "text": [
      "name='Blessing' score=100 course='AI Engineering '\n",
      "<class 'int'>\n"
     ]
    }
   ],
   "source": [
    "# an incomming data\n",
    "data= {\"name\":\"Blessing\", \"score\": \"100\", \"course\":\"AI Engineering \"}\n",
    "\n",
    "# pydantic will parse it like this\n",
    "fellow = Fellow(**data)\n",
    "\n",
    "print(fellow)\n",
    "print(type(fellow.score))\n"
   ]
  },
  {
   "cell_type": "code",
   "execution_count": 13,
   "id": "3a3dacee",
   "metadata": {},
   "outputs": [
    {
     "name": "stdout",
     "output_type": "stream",
     "text": [
      "{\"name\":\"Perpetual\",\"score\":88,\"course\":\"AI Engineering\"}\n"
     ]
    },
    {
     "name": "stderr",
     "output_type": "stream",
     "text": [
      "C:\\Users\\user49\\AppData\\Local\\Temp\\ipykernel_10580\\349802518.py:3: PydanticDeprecatedSince20: The `json` method is deprecated; use `model_dump_json` instead. Deprecated in Pydantic V2.0 to be removed in V3.0. See Pydantic V2 Migration Guide at https://errors.pydantic.dev/2.12/migration/\n",
      "  print(p.json())\n"
     ]
    }
   ],
   "source": [
    "# 3. Serailization - It automatically converts data to JSON or dictioanry(converts to a format that can be stored or sent)\n",
    "# Its more like packaging a data for output\n",
    "print(p.json())"
   ]
  }
 ],
 "metadata": {
  "kernelspec": {
   "display_name": "benv",
   "language": "python",
   "name": "python3"
  },
  "language_info": {
   "codemirror_mode": {
    "name": "ipython",
    "version": 3
   },
   "file_extension": ".py",
   "mimetype": "text/x-python",
   "name": "python",
   "nbconvert_exporter": "python",
   "pygments_lexer": "ipython3",
   "version": "3.13.7"
  }
 },
 "nbformat": 4,
 "nbformat_minor": 5
}
