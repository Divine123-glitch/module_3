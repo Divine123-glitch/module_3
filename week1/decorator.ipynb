{
 "cells": [
  {
   "cell_type": "code",
   "execution_count": 1,
   "id": "c417413a",
   "metadata": {},
   "outputs": [
    {
     "name": "stdout",
     "output_type": "stream",
     "text": [
      "Welcome to my coffee shop!\n",
      "Shopkeeper says: Welcome to my coffee shop!\n"
     ]
    }
   ],
   "source": [
    "def greet_customer():\n",
    "    return 'Welcome to my coffee shop!'\n",
    "\n",
    "# Assigning Functions to Variables\n",
    "greeting = greet_customer\n",
    "print(greeting())\n",
    "\n",
    "# Passing Functions as Arguments\n",
    "def use_greeting(greeting_function):\n",
    "    return f'Shopkeeper says: {greeting_function()}'\n",
    "\n",
    "print(use_greeting(greet_customer))"
   ]
  },
  {
   "cell_type": "code",
   "execution_count": 4,
   "id": "695df81c",
   "metadata": {},
   "outputs": [],
   "source": [
    "# Creating a decorator\n",
    "\n",
    "def add_nigerian_politeness(origin_function):\n",
    "    \"\"\"This decorator adds Nigerian politeness to any greeting\"\"\"\n",
    "    def wrapper():\n",
    "        result = origin_function()\n",
    "        return f\"Good morning ooo! {result} How are you doing today nah?\"\n",
    "    return wrapper\n",
    "\n",
    "# Original simple greeting\n",
    "def basic_greet():\n",
    "    return \"Hello\""
   ]
  },
  {
   "cell_type": "code",
   "execution_count": 5,
   "id": "82f6ba7b",
   "metadata": {},
   "outputs": [
    {
     "name": "stdout",
     "output_type": "stream",
     "text": [
      "Good morning ooo! Hello How are you doing today nah?\n"
     ]
    }
   ],
   "source": [
    "# Applying decorator manually\n",
    "\n",
    "polite_greeting = add_nigerian_politeness(basic_greet)\n",
    "print(polite_greeting())"
   ]
  },
  {
   "cell_type": "code",
   "execution_count": 7,
   "id": "45ae2058",
   "metadata": {},
   "outputs": [
    {
     "name": "stdout",
     "output_type": "stream",
     "text": [
      "Good morning ooo! Welcome to my foot wears store. How are you doing today nah?\n"
     ]
    }
   ],
   "source": [
    "# Using the @ symbol for decorator application\n",
    "@add_nigerian_politeness\n",
    "def shop_greet():\n",
    "    return \"Welcome to my foot wears store.\"\n",
    "\n",
    "print(shop_greet())"
   ]
  },
  {
   "cell_type": "code",
   "execution_count": 8,
   "id": "371012cc",
   "metadata": {},
   "outputs": [],
   "source": [
    "# Example 2\n",
    "# This comes with arguments\n",
    "# Sometimes you want to pass information to your decorator\n",
    "\n",
    "\n",
    "def add_nigerian_time_greeting(time_of_day):\n",
    "    \"\"\"Decorator that adds appropriate Nigerian greeting based on time\"\"\"\n",
    "    def decorator(original_function):\n",
    "        def wrapper():\n",
    "            if time_of_day == \"morning\":\n",
    "                greeting = \"Good morning ooo!\"\n",
    "            elif time_of_day == \"afternoon\":\n",
    "                greeting = \"Good afternoon!\"\n",
    "            elif time_of_day == \"evening\":\n",
    "                greeting = \"Good evening ooo!\"\n",
    "            else:\n",
    "                greeting = \"How far!\"\n",
    "            \n",
    "            result = original_function()\n",
    "            return f\"{greeting} {result}\"\n",
    "        return wrapper\n",
    "    return decorator"
   ]
  },
  {
   "cell_type": "code",
   "execution_count": null,
   "id": "1446e10a",
   "metadata": {},
   "outputs": [],
   "source": [
    "# Using the decorator with different times\n",
    "@add_nigerian_time_greeting(\"morning\")\n",
    "def market_greet():\n",
    "    return \"Welcome to our store. How can we help you today?\""
   ]
  },
  {
   "cell_type": "code",
   "execution_count": 11,
   "id": "fdedfe58",
   "metadata": {},
   "outputs": [],
   "source": [
    "@add_nigerian_time_greeting(\"evening\")\n",
    "def restaurant_greet():\n",
    "    return \"Welcome to our restaurant. What would you like to eat?\""
   ]
  },
  {
   "cell_type": "code",
   "execution_count": 21,
   "id": "919f7196",
   "metadata": {},
   "outputs": [],
   "source": [
    "# Example 3\n",
    "\n",
    "def naira_formatter(currency_symbol=\"₦\"):\n",
    "    \"\"\"Decorator to format prices in Nigeria Naira\"\"\"\n",
    "    def decorator(price_function):\n",
    "        def wrapper(*args, **kwargs):\n",
    "            price = price_function(*args, **kwargs)\n",
    "            return f\"{currency_symbol}{price:,.2f}\"\n",
    "        return wrapper\n",
    "    return decorator"
   ]
  },
  {
   "cell_type": "code",
   "execution_count": 22,
   "id": "6153c633",
   "metadata": {},
   "outputs": [],
   "source": [
    "@naira_formatter(\"₦\")\n",
    "def rice_price():\n",
    "    return 2500"
   ]
  },
  {
   "cell_type": "code",
   "execution_count": 23,
   "id": "ef8048e1",
   "metadata": {},
   "outputs": [],
   "source": [
    "@naira_formatter(\"₦\")\n",
    "def calculate_transport_fare(distance_km):\n",
    "    base_fare = 200\n",
    "    per_km = 50\n",
    "    return base_fare + (distance_km * per_km)"
   ]
  },
  {
   "cell_type": "code",
   "execution_count": 25,
   "id": "8d728d11",
   "metadata": {},
   "outputs": [
    {
     "name": "stdout",
     "output_type": "stream",
     "text": [
      "₦2,500.00\n",
      "₦450.00\n"
     ]
    }
   ],
   "source": [
    "print(rice_price())\n",
    "print(calculate_transport_fare(5))"
   ]
  }
 ],
 "metadata": {
  "kernelspec": {
   "display_name": "benv",
   "language": "python",
   "name": "python3"
  },
  "language_info": {
   "codemirror_mode": {
    "name": "ipython",
    "version": 3
   },
   "file_extension": ".py",
   "mimetype": "text/x-python",
   "name": "python",
   "nbconvert_exporter": "python",
   "pygments_lexer": "ipython3",
   "version": "3.13.7"
  }
 },
 "nbformat": 4,
 "nbformat_minor": 5
}
