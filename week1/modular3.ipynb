{
 "cells": [
  {
   "cell_type": "code",
   "execution_count": 1,
   "id": "39e98dda",
   "metadata": {},
   "outputs": [],
   "source": [
    "class Student:\n",
    "    def __init__(self , name, course, level):\n",
    "        self.name = name\n",
    "        self.course = course\n",
    "        self.level = level\n",
    "        print(f\"Student {name} has been created!\")"
   ]
  },
  {
   "cell_type": "code",
   "execution_count": 2,
   "id": "b7964361",
   "metadata": {},
   "outputs": [
    {
     "name": "stdout",
     "output_type": "stream",
     "text": [
      "Student Kemi Adebayo has been created!\n"
     ]
    }
   ],
   "source": [
    "kemi = Student(\"Kemi Adebayo\", \"Computer Science\", 300)"
   ]
  },
  {
   "cell_type": "code",
   "execution_count": 10,
   "id": "e5425320",
   "metadata": {},
   "outputs": [],
   "source": [
    "class NigerianStudent:\n",
    "    def __init__(self, name, state, course):\n",
    "        print(f\"Step 1: Creating student object....\")\n",
    "        self.name = name        # Step 2: Assign name to THIS object\n",
    "        self.state_of_origin = state       # Step 3: Assign state to THIS object\n",
    "        self.course = course    # Step 4: Assign course to THIS object\n",
    "        self.student_id = self.generate_id()    # Step 5: Generate ID for THIS object\n",
    "        print(f\"Step 6: {self.name} from {self.state_of_origin} studying {self.course} is ready!\")\n",
    "\n",
    "    def generate_id(self):\n",
    "        import random\n",
    "        return f\"UNISAILS{random.randint(1000,9999)}\"\n"
   ]
  },
  {
   "cell_type": "code",
   "execution_count": 11,
   "id": "37fb9e99",
   "metadata": {},
   "outputs": [
    {
     "name": "stdout",
     "output_type": "stream",
     "text": [
      "Step 1: Creating student object....\n",
      "Step 6: Ayo Balogun from Lagos studying Street Statistics is ready!\n"
     ]
    }
   ],
   "source": [
    "# When you create an object, here's what happens:\n",
    "ayo = NigerianStudent(\"Ayo Balogun\", \"Lagos\", \"Street Statistics\")"
   ]
  },
  {
   "cell_type": "code",
   "execution_count": 12,
   "id": "fa359163",
   "metadata": {},
   "outputs": [
    {
     "name": "stdout",
     "output_type": "stream",
     "text": [
      "Ayo Balogun\n",
      "UNISAILS1974\n"
     ]
    }
   ],
   "source": [
    "print(ayo.name)        \n",
    "print(ayo.student_id)  "
   ]
  },
  {
   "cell_type": "code",
   "execution_count": 13,
   "id": "63efae1a",
   "metadata": {},
   "outputs": [],
   "source": [
    "class PhoneUser:\n",
    "    def __init__(self, name, network):\n",
    "        self.name = name\n",
    "        self.network = network\n",
    "        self.airtime = 0\n",
    "        print(f\"{self.name} joined {self.network} network\")\n",
    "    \n",
    "    def buy_airtime(self, amount):\n",
    "        self.airtime += amount  # self ensures it goes to the RIGHT person\n",
    "        return f\"{self.name} now has ₦{self.airtime} airtime\"\n"
   ]
  },
  {
   "cell_type": "code",
   "execution_count": 14,
   "id": "5cd5bc80",
   "metadata": {},
   "outputs": [
    {
     "name": "stdout",
     "output_type": "stream",
     "text": [
      "Abeeb Bakare joined MTN network\n",
      "Onisemo Williams joined Airtel network\n"
     ]
    }
   ],
   "source": [
    "\n",
    "# Creating multiple users\n",
    "abeeb = PhoneUser(\"Abeeb Bakare\", \"MTN\")     \n",
    "onisemo = PhoneUser(\"Onisemo Williams\", \"Airtel\")  "
   ]
  },
  {
   "cell_type": "code",
   "execution_count": 15,
   "id": "c244dd00",
   "metadata": {},
   "outputs": [
    {
     "name": "stdout",
     "output_type": "stream",
     "text": [
      "Abeeb Bakare now has ₦500 airtime\n",
      "Onisemo Williams now has ₦1000 airtime\n",
      "500\n",
      "1000\n"
     ]
    }
   ],
   "source": [
    "# Each person's actions affect only their own account\n",
    "print(abeeb.buy_airtime(500))     # Tunde now has ₦500 airtime\n",
    "print(onisemo.buy_airtime(1000)) # Blessing now has ₦1000 airtime\n",
    "print(abeeb.airtime)              # 500 (Tunde's airtime unchanged)\n",
    "print(onisemo.airtime)           # 1000 (Blessing's airtime unchanged)"
   ]
  },
  {
   "cell_type": "code",
   "execution_count": 16,
   "id": "b6e16767",
   "metadata": {},
   "outputs": [],
   "source": [
    "# Defining Attributes of a student\n",
    "class Student:\n",
    "    def __init__(self, name, course, level, state_of_origin):\n",
    "        self.name = name                   \n",
    "        self.course = course              \n",
    "        self.level = level                \n",
    "        self.state_of_origin = state_of_origin  \n",
    "        self.cgpa = 0.0                    \n"
   ]
  },
  {
   "cell_type": "code",
   "execution_count": 17,
   "id": "c98c2c41",
   "metadata": {},
   "outputs": [],
   "source": [
    "# Creating a student object\n",
    "Fathia = Student(\"Fathia Abdul\", \"Biochemistry\", 300, \"Ogun State\")\n"
   ]
  },
  {
   "cell_type": "code",
   "execution_count": 18,
   "id": "50a577d4",
   "metadata": {},
   "outputs": [
    {
     "name": "stdout",
     "output_type": "stream",
     "text": [
      "Fathia Abdul\n",
      "Biochemistry\n",
      "Ogun State\n"
     ]
    }
   ],
   "source": [
    "# Accessing attributes\n",
    "print(Fathia.name)             \n",
    "print(Fathia.course)        \n",
    "print(Fathia.state_of_origin)  "
   ]
  },
  {
   "cell_type": "code",
   "execution_count": null,
   "id": "8bf0d191",
   "metadata": {},
   "outputs": [
    {
     "name": "stdout",
     "output_type": "stream",
     "text": [
      "Anthony Johnson\n",
      "Fadilat Hassan\n"
     ]
    }
   ],
   "source": [
    "# Instance Attributes - Attributes are specific to each object\n",
    "\n",
    "student1 = Student(\"Anthony Johnson\", \"Engineering\", 200, \"Ogun\")\n",
    "student2 = Student(\"Fadilat Hassan\", \"Medicine\", 400, \"Lagos\")\n",
    "\n",
    "print(student1.name)  \n",
    "print(student2.name) "
   ]
  },
  {
   "cell_type": "code",
   "execution_count": 23,
   "id": "b6aec424",
   "metadata": {},
   "outputs": [
    {
     "name": "stdout",
     "output_type": "stream",
     "text": [
      "Federal University of Technology Akure\n",
      "Federal University of Technology Akure\n",
      "Federal University of Technology Akure\n"
     ]
    }
   ],
   "source": [
    "# Class Attributes - Attributes shared by all objects of the class\n",
    "\n",
    "class Student:\n",
    "    university = \"Federal University of Technology Akure\"  \n",
    "    \n",
    "    def __init__(self, name, course):\n",
    "        self.name = name         \n",
    "        self.course = course\n",
    "        \n",
    "student1 = Student(\"Anthony Johnson\", \"Engineering\")\n",
    "student2 = Student(\"Fadilat Hassan\", \"Medicine\")\n",
    "    \n",
    "\n",
    "print(Student.university)     \n",
    "print(student1.university)   \n",
    "print(student2.university)    "
   ]
  },
  {
   "cell_type": "code",
   "execution_count": 24,
   "id": "8e0a5c94",
   "metadata": {},
   "outputs": [],
   "source": [
    "class Student:\n",
    "    def __init__(self, name, course, level):\n",
    "        # Attributes\n",
    "        self.name = name\n",
    "        self.course = course\n",
    "        self.level = level\n",
    "        self.cgpa = 0.0\n",
    "        self.fees_paid = False\n",
    "    \n",
    "\n",
    "     # Method: action the student can do\n",
    "    def pay_school_fees(self):                   \n",
    "        self.fees_paid = True\n",
    "        return f\"{self.name} has paid school fees for {self.level} level\"\n",
    "    \n",
    "    # Method: another action\n",
    "    def register_courses(self):                   \n",
    "        if self.fees_paid:\n",
    "            return f\"{self.name} has registered courses for {self.course}\"\n",
    "        else:\n",
    "            return f\"{self.name} must pay school fees first!\"\n",
    "    \n",
    "      # Method: calculates CGPA\n",
    "    def calculate_cgpa(self, grades):           \n",
    "        if grades:\n",
    "            self.cgpa = sum(grades) / len(grades)\n",
    "            return f\"{self.name}'s CGPA is now {self.cgpa:.2f}\"\n",
    "        return \"No grades provided\""
   ]
  },
  {
   "cell_type": "code",
   "execution_count": 25,
   "id": "a4753cbb",
   "metadata": {},
   "outputs": [
    {
     "name": "stdout",
     "output_type": "stream",
     "text": [
      "Abiodun Akinola has paid school fees for 600 level\n",
      "Abiodun Akinola has registered courses for Gistology\n",
      "Abiodun Akinola's CGPA is now 3.88\n"
     ]
    }
   ],
   "source": [
    "# Using methods\n",
    "Abiodun = Student(\"Abiodun Akinola\", \"Gistology\", 600)\n",
    "print(Abiodun.pay_school_fees())        \n",
    "print(Abiodun.register_courses())       \n",
    "print(Abiodun.calculate_cgpa([4.2, 3.8, 4.0, 3.5]))"
   ]
  },
  {
   "cell_type": "code",
   "execution_count": 26,
   "id": "2216622a",
   "metadata": {},
   "outputs": [],
   "source": [
    "# 'self' refers to the specific student\n",
    "def pay_school_fees(self):  \n",
    "    return f\"{self.name} has paid school fees\""
   ]
  },
  {
   "cell_type": "code",
   "execution_count": 27,
   "id": "91485c1f",
   "metadata": {},
   "outputs": [],
   "source": [
    "@classmethod\n",
    "def get_university(cls):\n",
    "    return cls.university"
   ]
  },
  {
   "cell_type": "code",
   "execution_count": 28,
   "id": "1c78dee1",
   "metadata": {},
   "outputs": [],
   "source": [
    "@staticmethod\n",
    "def academic_calendar():\n",
    "    return \"Academic session runs from September to July\""
   ]
  },
  {
   "cell_type": "code",
   "execution_count": 29,
   "id": "b32505f7",
   "metadata": {},
   "outputs": [],
   "source": [
    "class BankAccount:\n",
    "    def __init__(self, owner, bank_name, balance=0):\n",
    "        # ATTRIBUTES - What the account HAS\n",
    "        self.owner = owner\n",
    "        self.bank_name = bank_name\n",
    "        self.balance = balance\n",
    "        self.account_number = self.generate_account_number()\n",
    "    \n",
    "    # METHODS - What the account can DO\n",
    "    def deposit(self, amount):\n",
    "        \"\"\"Add money to the account\"\"\"\n",
    "        if amount > 0:\n",
    "            self.balance += amount  # Method changes attribute\n",
    "            return f\"₦{amount:,} deposited to {self.owner}'s {self.bank_name} account. New balance: ₦{self.balance:,}\"\n",
    "        return \"Invalid deposit amount\"\n",
    "    \n",
    "    def withdraw(self, amount):\n",
    "        \"\"\"Remove money from the account\"\"\"\n",
    "        if amount > 0 and amount <= self.balance:\n",
    "            self.balance -= amount  # Method changes attribute\n",
    "            return f\"₦{amount:,} withdrawn from {self.owner}'s account. New balance: ₦{self.balance:,}\"\n",
    "        return \"Insufficient funds or invalid amount\"\n",
    "    \n",
    "    def transfer(self, amount, recipient):\n",
    "        \"\"\"Transfer money to another account\"\"\"\n",
    "        if amount > 0 and amount <= self.balance:\n",
    "            self.balance -= amount\n",
    "            return f\"₦{amount:,} transferred from {self.owner} to {recipient}. Remaining balance: ₦{self.balance:,}\"\n",
    "        return \"Transfer failed: Insufficient funds\"\n",
    "    \n",
    "    def check_balance(self):\n",
    "        \"\"\"Check current balance\"\"\"\n",
    "        return f\"{self.owner}'s {self.bank_name} account balance: ₦{self.balance:,}\"\n",
    "    \n",
    "    def generate_account_number(self):\n",
    "        \"\"\"Generate a unique account number\"\"\"\n",
    "        import random\n",
    "        return f\"01{random.randint(10000000, 99999999)}\"\n"
   ]
  },
  {
   "cell_type": "code",
   "execution_count": 30,
   "id": "00729d02",
   "metadata": {},
   "outputs": [],
   "source": [
    "# Creating and using the account\n",
    "adunni_account = BankAccount(\"Adunni Olaleye\", \"AXT Bank\", 50000)"
   ]
  },
  {
   "cell_type": "code",
   "execution_count": 31,
   "id": "a6700c76",
   "metadata": {},
   "outputs": [
    {
     "name": "stdout",
     "output_type": "stream",
     "text": [
      "Owner: Adunni Olaleye\n",
      "Bank: AXT Bank\n",
      "Account Number: 0137969137\n"
     ]
    }
   ],
   "source": [
    "# Attributes (characteristics)\n",
    "print(f\"Owner: {adunni_account.owner}\")\n",
    "print(f\"Bank: {adunni_account.bank_name}\")\n",
    "print(f\"Account Number: {adunni_account.account_number}\")"
   ]
  },
  {
   "cell_type": "code",
   "execution_count": 32,
   "id": "c8a933ec",
   "metadata": {},
   "outputs": [
    {
     "name": "stdout",
     "output_type": "stream",
     "text": [
      "₦25,000 deposited to Adunni Olaleye's AXT Bank account. New balance: ₦75,000\n",
      "₦10,000 withdrawn from Adunni Olaleye's account. New balance: ₦65,000\n",
      "₦15,000 transferred from Adunni Olaleye to Sunday James. Remaining balance: ₦50,000\n",
      "Adunni Olaleye's AXT Bank account balance: ₦50,000\n"
     ]
    }
   ],
   "source": [
    "\n",
    "# Methods (actions)\n",
    "print(adunni_account.deposit(25000))    \n",
    "print(adunni_account.withdraw(10000))  \n",
    "print(adunni_account.transfer(15000, \"Sunday James\"))  \n",
    "print(adunni_account.check_balance())   "
   ]
  },
  {
   "cell_type": "code",
   "execution_count": null,
   "id": "53ebbc96",
   "metadata": {},
   "outputs": [],
   "source": [
    "class NaijaPhone:\n",
    "    def __init__(self, brand, model, network_provider):\n",
    "        self.brand = brand\n",
    "        self.model = model\n",
    "        self.network_provider = network_provider\n",
    "        self.airtime_balance = 0\n",
    "        self.data_balance = 0\n",
    "        self.is_on = False\n",
    "    \n",
    "    def power_on(self):\n",
    "        self.is_on = True\n",
    "        return f\"{self.brand} phone is now on. Network: {self.network_provider}\"\n",
    "    \n",
    "    def buy_airtime(self, amount):\n",
    "        self.airtime_balance += amount\n",
    "        return f\"₦{amount} airtime purchased. Balance: ₦{self.airtime_balance}\"\n",
    "    \n",
    "    def make_call(self, number):\n",
    "        if self.is_on and self.airtime_balance > 0:\n",
    "            self.airtime_balance -= 10\n",
    "            return f\"Calling {number}... Remaining airtime: ₦{self.airtime_balance}\"\n",
    "        return \"Cannot make call. Check phone power and airtime balance\"\n",
    "    \n",
    "    def send_sms(self, message, number):\n",
    "        if self.airtime_balance >= 4:\n",
    "            self.airtime_balance -= 4\n",
    "            return f\"SMS sent to {number}: '{message}'. Remaining airtime: ₦{self.airtime_balance}\"\n",
    "        return \"Insufficient airtime to send SMS\""
   ]
  },
  {
   "cell_type": "code",
   "execution_count": 41,
   "id": "a52f94b2",
   "metadata": {},
   "outputs": [],
   "source": [
    "# Creating a phone account demo\n",
    "divine_phone = NaijaPhone(\"Samsung\", \"Note 8\", \"Glo\")"
   ]
  },
  {
   "cell_type": "code",
   "execution_count": 50,
   "id": "02568ab4",
   "metadata": {},
   "outputs": [
    {
     "name": "stdout",
     "output_type": "stream",
     "text": [
      "Samsung phone is now on. Network: Glo\n",
      "₦1000 airtime purchased. Balance: ₦7926\n",
      "Calling 7086807232... Remaining airtime: ₦7916\n",
      "SMS sent to 7077639509: 'I will call you soon dear!'. Remaining airtime: ₦7912\n"
     ]
    }
   ],
   "source": [
    "print(divine_phone.power_on())\n",
    "print(divine_phone.buy_airtime(1000))\n",
    "print(divine_phone.make_call(7086807232))\n",
    "print(divine_phone.send_sms(\"I will call you soon dear!\", 7077639509))"
   ]
  },
  {
   "cell_type": "markdown",
   "id": "d599a749",
   "metadata": {},
   "source": [
    "### Answer\n",
    "\n",
    "#### Attributes\n",
    "- NaijaPhone.brand\n",
    "- NaijaPhone.model\n",
    "- NaijaPhone.network_provider\n",
    "- NaijaPhone.airtime_balance\n",
    "- NaijaPhone.data_balance\n",
    "\n",
    "#### Methods\n",
    "- NaijaPhone.power_on\n",
    "- NaijaPhone.buy_airtime\n",
    "- NaijaPhone.make_call\n",
    "- NaijaPhone.send_sms"
   ]
  },
  {
   "cell_type": "code",
   "execution_count": 51,
   "id": "9f098123",
   "metadata": {},
   "outputs": [],
   "source": [
    "class MarketTrader:\n",
    "    def __init__(self, name, market_name, goods):\n",
    "       \n",
    "        self.name = name                \n",
    "        self.market_name = market_name \n",
    "        self.goods = goods             \n",
    "        self.daily_sales = 0\n",
    "    \n",
    "  \n",
    "    def advertise_goods(self):\n",
    "        return f\"{self.name} at {self.market_name}: Fresh {', '.join(self.goods)} available!\"\n",
    "    \n",
    "    def make_sale(self, amount):\n",
    "        self.daily_sales += amount\n",
    "        return f\"Sale made! Today's total: ₦{self.daily_sales:,}\""
   ]
  },
  {
   "cell_type": "markdown",
   "id": "9b459850",
   "metadata": {},
   "source": [
    "### Answer\n",
    "\n",
    "#### Attributes\n",
    "- markettrader.name\n",
    "- markettrader.market_name\n",
    "- markettrader.goods\n",
    "- markettrader.dailysales\n",
    "\n",
    "#### Methods\n",
    "- markettrader.advertise_goods\n",
    "- markettrader.make_sale"
   ]
  },
  {
   "cell_type": "code",
   "execution_count": 52,
   "id": "8feff9e5",
   "metadata": {},
   "outputs": [],
   "source": [
    "class NigerianBankAccount:\n",
    "    def __init__(self, owner, initial_balance=0):\n",
    "        self.owner = owner\n",
    "        self._balance = initial_balance        # Protected attribute\n",
    "        self.__pin = \"1234\"                   # Private attribute\n",
    "        self._transaction_history = []        # Protected attribute\n",
    "    \n",
    "    # Public methods - anyone can use these\n",
    "    def deposit(self, amount):\n",
    "        if amount > 0:\n",
    "            self._balance += amount\n",
    "            self._transaction_history.append(f\"Deposited ₦{amount:,}\")\n",
    "            return f\"₦{amount:,} deposited successfully\"\n",
    "        return \"Invalid deposit amount\"\n",
    "    \n",
    "    def withdraw(self, amount, pin):\n",
    "        if self.__verify_pin(pin):  # Uses private method\n",
    "            if amount <= self._balance:\n",
    "                self._balance -= amount\n",
    "                self._transaction_history.append(f\"Withdrew ₦{amount:,}\")\n",
    "                return f\"₦{amount:,} withdrawn successfully\"\n",
    "            return \"Insufficient funds\"\n",
    "        return \"Invalid PIN\"\n",
    "    \n",
    "    def check_balance(self, pin):\n",
    "        if self.__verify_pin(pin):\n",
    "            return f\"Current balance: ₦{self._balance:,}\"\n",
    "        return \"Invalid PIN\"\n",
    "    \n",
    "    # Private method - only the class can use this\n",
    "    def __verify_pin(self, entered_pin):\n",
    "        return entered_pin == self.__pin\n",
    "    \n",
    "    # Protected method - subclasses can use this\n",
    "    def _get_transaction_history(self):\n",
    "        return self._transaction_history.copy()"
   ]
  },
  {
   "cell_type": "code",
   "execution_count": 53,
   "id": "c41c3306",
   "metadata": {},
   "outputs": [
    {
     "name": "stdout",
     "output_type": "stream",
     "text": [
      "₦10,000 deposited successfully\n",
      "₦5,000 withdrawn successfully\n",
      "Current balance: ₦55,000\n"
     ]
    }
   ],
   "source": [
    "# Using the encapsulated account\n",
    "ibrahim_account = NigerianBankAccount(\"Ibrahim Orekunrin\", 50000)\n",
    "\n",
    "# These work - public interface\n",
    "print(ibrahim_account.deposit(10000))      # ₦10,000 deposited successfully\n",
    "print(ibrahim_account.withdraw(5000, \"1234\"))  # ₦5,000 withdrawn successfully\n",
    "print(ibrahim_account.check_balance(\"1234\"))   # Current balance: ₦55,000"
   ]
  },
  {
   "cell_type": "code",
   "execution_count": 55,
   "id": "7665984c",
   "metadata": {},
   "outputs": [],
   "source": [
    "# Try this out...\n",
    "\n",
    "# But it won't  work - private/protected data\n",
    "\n",
    "# print(ibrahim_account.__pin)           # Error! Cannot access private attribute\n",
    "# ibrahim_account.__verify_pin(\"1234\")   # Error! Cannot access private method"
   ]
  },
  {
   "cell_type": "markdown",
   "id": "f7187f57",
   "metadata": {},
   "source": [
    "```python\n",
    "class Example:\n",
    "    def __init__(self):\n",
    "        self.public = \"Anyone can access\"           # Public\n",
    "        self._protected = \"Subclasses can access\"   # Protected (convention)\n",
    "        self.__private = \"Only this class can access\"  # Private (name mangling)\n",
    "\n",
    "```"
   ]
  },
  {
   "cell_type": "code",
   "execution_count": 56,
   "id": "ca35565d",
   "metadata": {},
   "outputs": [],
   "source": [
    "from abc import ABC, abstractmethod\n",
    "\n",
    "# Abstract base class - defines what a Nigerian student should do\n",
    "class NigerianStudent(ABC):\n",
    "    def __init__(self, name, course, level):\n",
    "        self.name = name\n",
    "        self.course = course\n",
    "        self.level = level\n",
    "        self.fees_paid = False\n",
    "    \n",
    "    # Concrete method - all students can do this\n",
    "    def pay_school_fees(self, amount):\n",
    "        self.fees_paid = True\n",
    "        return f\"{self.name} paid ₦{amount:,} school fees\"\n",
    "    \n",
    "    # Abstract method - each type of student implements differently\n",
    "    @abstractmethod\n",
    "    def study_method(self):\n",
    "        pass\n",
    "    \n",
    "    @abstractmethod\n",
    "    def take_exam(self):\n",
    "        pass\n",
    "\n",
    "# Concrete classes - specific implementations\n",
    "class MedicalStudent(NigerianStudent):\n",
    "    def study_method(self):\n",
    "        return f\"{self.name} studies anatomy books and practices on cadavers\"\n",
    "    \n",
    "    def take_exam(self):\n",
    "        return f\"{self.name} takes practical exam in the anatomy lab\"\n",
    "\n",
    "class EngineeringStudent(NigerianStudent):\n",
    "    def study_method(self):\n",
    "        return f\"{self.name} solves mathematical problems and builds prototypes\"\n",
    "    \n",
    "    def take_exam(self):\n",
    "        return f\"{self.name} takes exam with calculations and technical drawings\"\n",
    "\n",
    "class ComputerScienceStudent(NigerianStudent):\n",
    "    def study_method(self):\n",
    "        return f\"{self.name} codes programs and debugs software\"\n",
    "    \n",
    "    def take_exam(self):\n",
    "        return f\"{self.name} takes practical programming exam on computer\""
   ]
  },
  {
   "cell_type": "code",
   "execution_count": 57,
   "id": "e2887e84",
   "metadata": {},
   "outputs": [],
   "source": [
    "# Using abstraction\n",
    "students = [\n",
    "    MedicalStudent(\"Dr.Adeyinka Ogunsanya\", \"Medicine\", 400),\n",
    "    EngineeringStudent(\"Dr. Ajala Gift\", \"Mechanical Engineering\", 300),\n",
    "    ComputerScienceStudent(\"Fatima Hassan\", \"Computer Science\", 200)\n",
    "]"
   ]
  },
  {
   "cell_type": "code",
   "execution_count": 58,
   "id": "88e21c35",
   "metadata": {},
   "outputs": [
    {
     "name": "stdout",
     "output_type": "stream",
     "text": [
      "Dr.Adeyinka Ogunsanya paid ₦150,000 school fees\n",
      "Dr.Adeyinka Ogunsanya studies anatomy books and practices on cadavers\n",
      "Dr.Adeyinka Ogunsanya takes practical exam in the anatomy lab\n",
      "---\n",
      "Dr. Ajala Gift paid ₦150,000 school fees\n",
      "Dr. Ajala Gift solves mathematical problems and builds prototypes\n",
      "Dr. Ajala Gift takes exam with calculations and technical drawings\n",
      "---\n",
      "Fatima Hassan paid ₦150,000 school fees\n",
      "Fatima Hassan codes programs and debugs software\n",
      "Fatima Hassan takes practical programming exam on computer\n",
      "---\n"
     ]
    }
   ],
   "source": [
    "\n",
    "# Same interface, different implementations\n",
    "for student in students:\n",
    "    print(student.pay_school_fees(150000))  # Same for all\n",
    "    print(student.study_method())           # Different for each\n",
    "    print(student.take_exam())              # Different for each\n",
    "    print(\"---\")"
   ]
  },
  {
   "cell_type": "code",
   "execution_count": null,
   "id": "3508d231",
   "metadata": {},
   "outputs": [],
   "source": [
    "#Simple abstraction for phone interface\n",
    "\n",
    "class SimplePhone:\n",
    "    def __init__(self, brand):\n",
    "        self.brand = brand\n",
    "        self._complex_internal_system = \"Very complicated stuff\"\n",
    "    \n",
    "    # Simple interface - user doesn't need to know internal complexity\n",
    "    def make_call(self, number):\n",
    "        self._establish_network_connection()\n",
    "        self._encode_voice_signal()\n",
    "        self._transmit_to_tower()\n",
    "        return f\"Calling {number} from {self.brand} phone...\"\n",
    "    \n",
    "    def send_sms(self, message, number):\n",
    "        self._connect_to_sms_center()\n",
    "        self._format_message()\n",
    "        self._send_through_network()\n",
    "        return f\"SMS sent to {number}: '{message}'\"\n",
    "    \n",
    "    # Complex internal methods - hidden from user\n",
    "    def _establish_network_connection(self):\n",
    "        # Complex networking code here\n",
    "        pass\n",
    "    \n",
    "    def _encode_voice_signal(self):\n",
    "        # Complex audio processing here\n",
    "        pass\n",
    "    \n",
    "    def _transmit_to_tower(self):\n",
    "        # Complex radio transmission here\n",
    "        pass"
   ]
  },
  {
   "cell_type": "code",
   "execution_count": null,
   "id": "645743fa",
   "metadata": {},
   "outputs": [],
   "source": [
    "# User only needs to know the simple interface\n",
    "my_phone = SimplePhone(\"Tecno\")\n",
    "print(my_phone.make_call(\"08012345678\"))  # Simple to use\n",
    "print(my_phone.send_sms(\"How far?\", \"08098765432\"))  # Don't need to know internals"
   ]
  }
 ],
 "metadata": {
  "kernelspec": {
   "display_name": "benv (3.14.0)",
   "language": "python",
   "name": "python3"
  },
  "language_info": {
   "codemirror_mode": {
    "name": "ipython",
    "version": 3
   },
   "file_extension": ".py",
   "mimetype": "text/x-python",
   "name": "python",
   "nbconvert_exporter": "python",
   "pygments_lexer": "ipython3",
   "version": "3.14.0"
  }
 },
 "nbformat": 4,
 "nbformat_minor": 5
}
